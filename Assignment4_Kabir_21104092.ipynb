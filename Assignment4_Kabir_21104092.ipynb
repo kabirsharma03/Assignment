{
  "cells": [
    {
      "cell_type": "markdown",
      "metadata": {
        "id": "view-in-github",
        "colab_type": "text"
      },
      "source": [
        "<a href=\"https://colab.research.google.com/github/kabirsharma03/Assignment/blob/main/Assignment4_Kabir_21104092.ipynb\" target=\"_parent\"><img src=\"https://colab.research.google.com/assets/colab-badge.svg\" alt=\"Open In Colab\"/></a>"
      ]
    },
    {
      "cell_type": "code",
      "source": [
        "from math import factorial\n",
        "n=int(input(\"Enter the value of n: \"))\n",
        "for i in range(n):\n",
        "  for j in range(n-i+1):\n",
        "    print(end=\" \")\n",
        "  for j in range(i+1):\n",
        "    print(factorial(i)//(factorial(j)*factorial(i-j)),end=\" \")\n",
        "\n",
        "print()     \n"
      ],
      "metadata": {
        "colab": {
          "base_uri": "https://localhost:8080/"
        },
        "id": "7WwE8EmKcWJt",
        "outputId": "bcbd36f8-7525-4a89-eb13-531e94c8b10d"
      },
      "execution_count": null,
      "outputs": [
        {
          "output_type": "stream",
          "name": "stdout",
          "text": [
            "Enter the value of n: 5\n",
            "      1      1 1     1 2 1    1 3 3 1   1 4 6 4 1 \n"
          ]
        }
      ]
    },
    {
      "cell_type": "code",
      "source": [
        "#Pascal's Triangle in recursive form\n",
        "def fact(n):\n",
        "  res=1\n",
        "  for c in range(1,n+1):\n",
        "    res=res*c\n",
        "  return res\n",
        "rows=int(input(\"Enter number of rows: \")) \n",
        "for i in range(0,rows):\n",
        "  for j in range(1,rows-i):\n",
        "    print(\" \",end=\" \")\n",
        "  for k in range(0,i+1):\n",
        "    coff=int(fact(i)/(fact(k)*fact(i-k)))\n",
        "    print(\" \",coff,end=\"\")\n",
        "print()        \n"
      ],
      "metadata": {
        "colab": {
          "base_uri": "https://localhost:8080/"
        },
        "id": "jLq8jLh5eb3i",
        "outputId": "2f2fa7a6-806d-4d69-829e-26bf13b5e8d5"
      },
      "execution_count": null,
      "outputs": [
        {
          "output_type": "stream",
          "name": "stdout",
          "text": [
            "Enter number of rows: 5\n",
            "          1        1  1      1  2  1    1  3  3  1  1  4  6  4  1\n"
          ]
        }
      ]
    },
    {
      "cell_type": "code",
      "source": [
        "def TowerOfHanoi(n,source,destination,auxiliary):\n",
        "  if n==1:\n",
        "    print(\"Move disk 1 from source\",source,\"to destination\",destination)\n",
        "    return \n",
        "  TowerOfHanoi(n-1,source,auxiliary,destination)\n",
        "  print(\"Move disk\",n,\"from source\",source,\"to destination\",destination)\n",
        "  TowerOfHanoi(n-1,auxiliary,destination,source)\n",
        "\n",
        "n=int(input(\"Enter value of n: \"))\n",
        "TowerOfHanoi(n,'A','B','C')  \n"
      ],
      "metadata": {
        "colab": {
          "base_uri": "https://localhost:8080/"
        },
        "id": "ppyyacNJfZOW",
        "outputId": "e0a2843c-3d27-4f0f-e51e-fa935bbe5144"
      },
      "execution_count": 13,
      "outputs": [
        {
          "output_type": "stream",
          "name": "stdout",
          "text": [
            "Enter value of n: 3\n",
            "Move disk 1 from source A to destination B\n",
            "Move disk 2 from source A to destination C\n",
            "Move disk 1 from source B to destination C\n",
            "Move disk 3 from source A to destination B\n",
            "Move disk 1 from source C to destination A\n",
            "Move disk 2 from source C to destination B\n",
            "Move disk 1 from source A to destination B\n"
          ]
        }
      ]
    },
    {
      "cell_type": "code",
      "source": [
        "class Student:\n",
        "  def getdetails(self,name,rollnumber):\n",
        "    print(f\"Name of the student is {self.name} and Roll number is {self.rollnumber}\")\n",
        "    @staticmethod\n",
        "    def __init__():\n",
        "      print(\"Details are as follows\")\n",
        "      \n",
        "\n",
        "Kabir=Student()\n",
        "Kabir.name=\"Kabir\"\n",
        "Kabir.rollnumber=21104092\n",
        "Kabir.getdetails(\"name\",\"rollnumber\")      "
      ],
      "metadata": {
        "colab": {
          "base_uri": "https://localhost:8080/"
        },
        "id": "C8O5gKNegX0n",
        "outputId": "37e5a83f-01ef-46f7-f300-87b91b6e7673"
      },
      "execution_count": null,
      "outputs": [
        {
          "output_type": "stream",
          "name": "stdout",
          "text": [
            "Name of the student is Kabir and Roll number is 21104092\n"
          ]
        }
      ]
    },
    {
      "cell_type": "code",
      "source": [
        "class Employee:\n",
        "  def getdetails(self,name,salary):\n",
        "    print(f\"Name of the employee is {self.name} and Salary is {self.salary}\")\n",
        "\n",
        "name1=Employee()\n",
        "name2=Employee()\n",
        "name3=Employee()\n",
        "name1.name=\"Mehak\"\n",
        "name1.salary=40000\n",
        "name2.name='Ashok'\n",
        "name2.salary=50000\n",
        "name3.name='Viren'\n",
        "name3.salary=60000 \n",
        "\n",
        "name1.getdetails(\"name\",\"salary\")\n",
        "name2.getdetails(\"name\",\"salary\")\n",
        "name3.getdetails(\"name\",\"salary\")"
      ],
      "metadata": {
        "colab": {
          "base_uri": "https://localhost:8080/"
        },
        "id": "RtoLdVRDhR1p",
        "outputId": "7c5c5ca6-4c64-4bd5-ec2f-7c88d0780cc9"
      },
      "execution_count": null,
      "outputs": [
        {
          "output_type": "stream",
          "name": "stdout",
          "text": [
            "Name of the employee is Mehak and Salary is 40000\n",
            "Name of the employee is Ashok and Salary is 50000\n",
            "Name of the employee is Viren and Salary is 60000\n"
          ]
        }
      ]
    },
    {
      "cell_type": "code",
      "source": [
        "#Updating Class Variables\n",
        "class Employee:\n",
        "  def getdetails(self,name,salary):\n",
        "    print(f\"Name of the employee is {self.name} and Salary is {self.salary}\")\n",
        "\n",
        "  def update(self,name,salary):\n",
        "    name1.salary=70000\n",
        "    print(f\"Name of the employee is {self.name} and Salary is {self.salary}\")  \n",
        "\n",
        "name1=Employee()\n",
        "name2=Employee()\n",
        "name3=Employee()\n",
        "    \n",
        "\n",
        "name1.name='Mehak'\n",
        "name1.salary=40000 \n",
        "name2.name='Ashok'\n",
        "name2.salary=50000\n",
        "name3.name='Viren'\n",
        "name3.salary=60000\n",
        "\n",
        "\n",
        "\n",
        "name1.update('name','salary')\n",
        "name2.getdetails('name','salary')\n",
        "name3.getdetails('name','salary')\n",
        "\n"
      ],
      "metadata": {
        "colab": {
          "base_uri": "https://localhost:8080/"
        },
        "id": "9RMR768wiUOw",
        "outputId": "b8841d49-a493-4539-a430-8fe745f5f244"
      },
      "execution_count": null,
      "outputs": [
        {
          "output_type": "stream",
          "name": "stdout",
          "text": [
            "Name of the employee is Mehak and Salary is 70000\n",
            "Name of the employee is Ashok and Salary is 50000\n",
            "Name of the employee is Viren and Salary is 60000\n"
          ]
        }
      ]
    },
    {
      "cell_type": "code",
      "source": [
        "class Employee:\n",
        "  def getdetails(self,name,salary):\n",
        " \n",
        "      print(\"Name of the employee is \",self.name,\" and Salary is \",self.salary)  \n",
        "    \n",
        "\n",
        "\n",
        "\n",
        "  \n",
        "\n",
        "\n",
        "    \n",
        "\n",
        "\n",
        "name1=Employee()\n",
        "name2=Employee()\n",
        "name3=Employee()\n",
        "name1.name='Mehak'\n",
        "name2.name='Ashok'\n",
        "name3.name='Viren'\n",
        "name1.salary=70000\n",
        "name2.salary=50000\n",
        "name3.salary=60000\n",
        "\n",
        "del name3.name\n",
        "del name3.salary\n",
        "name1.getdetails('name','salary')\n",
        "name2.getdetails('name','salary')\n",
        "name3.getdetails('name','salary')\n",
        "#We see that while printing details of Viren it throws an ERROR MESSAGE..."
      ],
      "metadata": {
        "colab": {
          "base_uri": "https://localhost:8080/",
          "height": 374
        },
        "id": "Nnvo4PHunBLP",
        "outputId": "6660967b-ec8f-42b1-c183-e0cdf70785c8"
      },
      "execution_count": 36,
      "outputs": [
        {
          "output_type": "stream",
          "name": "stdout",
          "text": [
            "Name of the employee is  Mehak  and Salary is  70000\n",
            "Name of the employee is  Ashok  and Salary is  50000\n"
          ]
        },
        {
          "output_type": "error",
          "ename": "AttributeError",
          "evalue": "ignored",
          "traceback": [
            "\u001b[0;31m---------------------------------------------------------------------------\u001b[0m",
            "\u001b[0;31mAttributeError\u001b[0m                            Traceback (most recent call last)",
            "\u001b[0;32m<ipython-input-36-c1a8ba13bb1e>\u001b[0m in \u001b[0;36m<module>\u001b[0;34m()\u001b[0m\n\u001b[1;32m     27\u001b[0m \u001b[0mname1\u001b[0m\u001b[0;34m.\u001b[0m\u001b[0mgetdetails\u001b[0m\u001b[0;34m(\u001b[0m\u001b[0;34m'name'\u001b[0m\u001b[0;34m,\u001b[0m\u001b[0;34m'salary'\u001b[0m\u001b[0;34m)\u001b[0m\u001b[0;34m\u001b[0m\u001b[0;34m\u001b[0m\u001b[0m\n\u001b[1;32m     28\u001b[0m \u001b[0mname2\u001b[0m\u001b[0;34m.\u001b[0m\u001b[0mgetdetails\u001b[0m\u001b[0;34m(\u001b[0m\u001b[0;34m'name'\u001b[0m\u001b[0;34m,\u001b[0m\u001b[0;34m'salary'\u001b[0m\u001b[0;34m)\u001b[0m\u001b[0;34m\u001b[0m\u001b[0;34m\u001b[0m\u001b[0m\n\u001b[0;32m---> 29\u001b[0;31m \u001b[0mname3\u001b[0m\u001b[0;34m.\u001b[0m\u001b[0mgetdetails\u001b[0m\u001b[0;34m(\u001b[0m\u001b[0;34m'name'\u001b[0m\u001b[0;34m,\u001b[0m\u001b[0;34m'salary'\u001b[0m\u001b[0;34m)\u001b[0m\u001b[0;34m\u001b[0m\u001b[0;34m\u001b[0m\u001b[0m\n\u001b[0m\u001b[1;32m     30\u001b[0m \u001b[0;31m#We see that while printing details of Viren it throws an ERROR MESSAGE...\u001b[0m\u001b[0;34m\u001b[0m\u001b[0;34m\u001b[0m\u001b[0;34m\u001b[0m\u001b[0m\n",
            "\u001b[0;32m<ipython-input-36-c1a8ba13bb1e>\u001b[0m in \u001b[0;36mgetdetails\u001b[0;34m(self, name, salary)\u001b[0m\n\u001b[1;32m      2\u001b[0m   \u001b[0;32mdef\u001b[0m \u001b[0mgetdetails\u001b[0m\u001b[0;34m(\u001b[0m\u001b[0mself\u001b[0m\u001b[0;34m,\u001b[0m\u001b[0mname\u001b[0m\u001b[0;34m,\u001b[0m\u001b[0msalary\u001b[0m\u001b[0;34m)\u001b[0m\u001b[0;34m:\u001b[0m\u001b[0;34m\u001b[0m\u001b[0;34m\u001b[0m\u001b[0m\n\u001b[1;32m      3\u001b[0m \u001b[0;34m\u001b[0m\u001b[0m\n\u001b[0;32m----> 4\u001b[0;31m       \u001b[0mprint\u001b[0m\u001b[0;34m(\u001b[0m\u001b[0;34m\"Name of the employee is \"\u001b[0m\u001b[0;34m,\u001b[0m\u001b[0mself\u001b[0m\u001b[0;34m.\u001b[0m\u001b[0mname\u001b[0m\u001b[0;34m,\u001b[0m\u001b[0;34m\" and Salary is \"\u001b[0m\u001b[0;34m,\u001b[0m\u001b[0mself\u001b[0m\u001b[0;34m.\u001b[0m\u001b[0msalary\u001b[0m\u001b[0;34m)\u001b[0m\u001b[0;34m\u001b[0m\u001b[0;34m\u001b[0m\u001b[0m\n\u001b[0m\u001b[1;32m      5\u001b[0m \u001b[0;34m\u001b[0m\u001b[0m\n\u001b[1;32m      6\u001b[0m \u001b[0;34m\u001b[0m\u001b[0m\n",
            "\u001b[0;31mAttributeError\u001b[0m: 'Employee' object has no attribute 'name'"
          ]
        }
      ]
    },
    {
      "cell_type": "code",
      "source": [
        "def function(a,b):\n",
        "  print(a//b)\n",
        "  print(a%b)\n",
        "\n",
        "a=int(input(\"Enter a: \"))\n",
        "b=int(input(\"Enter b: \"))  \n",
        "\n",
        "function(a,b)\n",
        "#We see that function is callable\n"
      ],
      "metadata": {
        "colab": {
          "base_uri": "https://localhost:8080/"
        },
        "id": "1uvuojVoplyW",
        "outputId": "0e69ed21-81be-4981-9ae2-f5a1cc3b2353"
      },
      "execution_count": null,
      "outputs": [
        {
          "output_type": "stream",
          "name": "stdout",
          "text": [
            "Enter a: 5\n",
            "Enter b: 3\n",
            "1\n",
            "2\n"
          ]
        }
      ]
    },
    {
      "cell_type": "code",
      "source": [
        "#B.) Part\n",
        "def function(a,b):\n",
        "  if b==0:\n",
        "    print(\"ERROR\")\n",
        "\n",
        "  \n",
        "  else:\n",
        "    print(\"Quotient is \",a//b,\" and remainder is \",a%b)\n",
        "   \n",
        "\n",
        "a=int(input(\"Enter a: \"))\n",
        "b=int(input(\"Enter b: \"))      \n",
        "f=function(a,b)\n"
      ],
      "metadata": {
        "colab": {
          "base_uri": "https://localhost:8080/"
        },
        "id": "YScGIFP0qsWg",
        "outputId": "ec450765-c6f9-483c-aded-6ec70adb30f6"
      },
      "execution_count": null,
      "outputs": [
        {
          "output_type": "stream",
          "name": "stdout",
          "text": [
            "Enter a: 5\n",
            "Enter b: 0\n",
            "ERROR\n"
          ]
        }
      ]
    },
    {
      "cell_type": "code",
      "source": [
        "#C.) Part\n",
        "def function(a,b):\n",
        "  x=a%b+4\n",
        "  y=a//b+4\n",
        "  z=a%b+5\n",
        "  w=a//b+5\n",
        "  t=a%b+6\n",
        "  e=a//b+6\n",
        "  if (x,y)<(4,4):\n",
        "    print(\"Separate values ,\"(x,y))\n",
        "  if (z,w)<(4,4):\n",
        "    print(\"Separate values \",(z,w))\n",
        "  if (w,t)<(4,4):\n",
        "    print(\"Separate value \",(w,t))    \n",
        "\n",
        "\n",
        "a=int(input(\"Enter a: \"))\n",
        "b=int(input(\"Enter b: \"))\n",
        "\n",
        "function(a,b)\n",
        "\n",
        "\n"
      ],
      "metadata": {
        "colab": {
          "base_uri": "https://localhost:8080/"
        },
        "id": "6ucXleltrtsW",
        "outputId": "4bfbc639-ecdd-41ee-9d6a-cc4d099f8ba5"
      },
      "execution_count": null,
      "outputs": [
        {
          "name": "stdout",
          "output_type": "stream",
          "text": [
            "Enter a: 100\n",
            "Enter b: 2\n"
          ]
        }
      ]
    },
    {
      "cell_type": "code",
      "source": [
        "#D.) Part\n",
        "def function(a,b):\n",
        "  return {a//b,a%b}\n",
        "\n",
        "a=int(input(\"Enter a: \"))\n",
        "b=int(input(\"Enter b: \"))\n",
        "f=function(a,b)\n",
        "print(f)\n",
        "\n"
      ],
      "metadata": {
        "id": "LwJhdU3vPhAQ",
        "outputId": "4a011dfa-4ff6-4b62-9ad9-092f3e33bb55",
        "colab": {
          "base_uri": "https://localhost:8080/"
        }
      },
      "execution_count": 2,
      "outputs": [
        {
          "output_type": "stream",
          "name": "stdout",
          "text": [
            "Enter a: 100\n",
            "Enter b: 2\n",
            "{0, 50}\n"
          ]
        }
      ]
    },
    {
      "cell_type": "code",
      "source": [
        "#F.) Part\n",
        "def function(a,b):\n",
        "  return {a//b,a%b}\n",
        "\n",
        "a=int(input(\"Enter a: \"))\n",
        "b=int(input(\"Enter b: \"))\n",
        "f=function(a,b)\n",
        "g=max(f)\n",
        "h=hash(g)\n",
        "print(\"Maximum value is \",g,\" and Hash value is \",h)\n",
        "\n",
        "\n"
      ],
      "metadata": {
        "id": "-vROmjEgQ9jR",
        "outputId": "56fca192-b52b-4837-bd4c-ccca8ae0c79a",
        "colab": {
          "base_uri": "https://localhost:8080/"
        }
      },
      "execution_count": 12,
      "outputs": [
        {
          "output_type": "stream",
          "name": "stdout",
          "text": [
            "Enter a: 100\n",
            "Enter b: 48\n",
            "Maximum value is  4  and Hash value is  4\n"
          ]
        }
      ]
    },
    {
      "cell_type": "code",
      "source": [
        "#E.) Part\n",
        "def function(a,b):\n",
        "  return {a//b,a%b}\n",
        "\n",
        "a=int(input(\"Enter a: \"))\n",
        "b=int(input(\"Enter b: \"))\n",
        "f=function(a,b)\n",
        "g=frozenset(f)\n",
        "print(g)"
      ],
      "metadata": {
        "id": "lLquTPclWA5I",
        "outputId": "139561b9-7d97-42ae-fa2d-29903071c45d",
        "colab": {
          "base_uri": "https://localhost:8080/"
        }
      },
      "execution_count": 19,
      "outputs": [
        {
          "output_type": "stream",
          "name": "stdout",
          "text": [
            "Enter a: 100\n",
            "Enter b: 52\n",
            "frozenset({48, 1})\n"
          ]
        }
      ]
    },
    {
      "cell_type": "code",
      "source": [
        "#C.) Part\n",
        "def function(a,b):\n",
        "  if a//b+4>4:\n",
        "    print(a//b+4)\n",
        "  if a%b+4>4:\n",
        "    print(a%b+4)\n",
        "  if a//b+5>4:\n",
        "    print(a//b+5)\n",
        "  if a%b+5>4:\n",
        "    print(a%b+5)\n",
        "  if a//b+6>4:\n",
        "    print(a//b+6)\n",
        "  if a%b+6>4:\n",
        "    print(a%b+6)     \n",
        "  else:\n",
        "    print(\"Quotient is \",a//b,\" and remainder is \",a%b) \n",
        "\n",
        "def intro():\n",
        "  print(\"Separated values are as follows-\")\n",
        "\n",
        "      \n",
        "\n",
        "a=int(input(\"Enter a: \"))\n",
        "b=int(input(\"Enter b: \"))\n",
        "intro()\n",
        "\n",
        "function(a,b)\n",
        "\n",
        "\n",
        "\n"
      ],
      "metadata": {
        "id": "5eL2onsrfi7n",
        "outputId": "d2c8d2c9-8fa5-41b7-fc7c-945d208a921b",
        "colab": {
          "base_uri": "https://localhost:8080/"
        }
      },
      "execution_count": 28,
      "outputs": [
        {
          "output_type": "stream",
          "name": "stdout",
          "text": [
            "Enter a: 100\n",
            "Enter b: 52\n",
            "Separated values are as follows-\n",
            "5\n",
            "52\n",
            "6\n",
            "53\n",
            "7\n",
            "54\n"
          ]
        }
      ]
    },
    {
      "cell_type": "code",
      "source": [
        "def Friendship_Test(a,b):\n",
        "  if a==b:\n",
        "    print(\"Friendship of Barbie and George is Fake!!!\")\n",
        "\n",
        "  else:\n",
        "    print(\"Friendship of Barbie and George is True\")\n",
        "\n",
        "a=input(\"George's Turn: \")\n",
        "b=input(\"Barbie's Turn: \")\n",
        "Friendship_Test(a,b)      \n",
        "\n"
      ],
      "metadata": {
        "id": "OQ_Ho4YXjUhB",
        "outputId": "ff9a513c-0b7c-43c9-9d31-1c4024cc93a1",
        "colab": {
          "base_uri": "https://localhost:8080/"
        }
      },
      "execution_count": 37,
      "outputs": [
        {
          "output_type": "stream",
          "name": "stdout",
          "text": [
            "George's Turn: Lemon\n",
            "Barbie's Turn: Melon\n",
            "Friendship of Barbie and George is True\n"
          ]
        }
      ]
    }
  ],
  "metadata": {
    "colab": {
      "collapsed_sections": [],
      "name": "Copy of Welcome To Colaboratory",
      "toc_visible": true,
      "provenance": [],
      "include_colab_link": true
    },
    "kernelspec": {
      "display_name": "Python 3",
      "name": "python3"
    }
  },
  "nbformat": 4,
  "nbformat_minor": 0
}