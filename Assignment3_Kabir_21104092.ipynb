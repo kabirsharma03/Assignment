{
  "cells": [
    {
      "cell_type": "markdown",
      "metadata": {
        "id": "view-in-github",
        "colab_type": "text"
      },
      "source": [
        "<a href=\"https://colab.research.google.com/github/kabirsharma03/Assignment/blob/main/Assignment3_Kabir_21104092.ipynb\" target=\"_parent\"><img src=\"https://colab.research.google.com/assets/colab-badge.svg\" alt=\"Open In Colab\"/></a>"
      ]
    },
    {
      "cell_type": "code",
      "source": [
        "a=str(input(\"Enter anything of your choice: \"))\n",
        "b=input(\"Enter word whose number of occurences is to be checked: \")\n",
        "x=a.count(b)\n",
        "print(x)"
      ],
      "metadata": {
        "id": "gYS4rG1eCRN1",
        "outputId": "103d1dd4-058c-4f56-9c49-d78f8c992175",
        "colab": {
          "base_uri": "https://localhost:8080/"
        }
      },
      "execution_count": 1,
      "outputs": [
        {
          "output_type": "stream",
          "name": "stdout",
          "text": [
            "Enter anything of your choice: I like mango and I also like apple\n",
            "Enter word whose number of occurences is to be checked: like\n",
            "2\n"
          ]
        }
      ]
    },
    {
      "cell_type": "code",
      "source": [
        "month=int(input(\"Month- \"))\n",
        "day=int(input(\"Day- \"))\n",
        "year=int(input(\"Year- \"))\n",
        "\n",
        "if (month,day,year%4)==(2,28,0):\n",
        "  print(\"Next Date is: \"+str(day+1)+\"/\"+str(month)+\"/\"+str(year))\n",
        "elif (month,day)==(2,28):\n",
        "  print(\"Next Date is: 1/3\"+\"/\"+str(year))\n",
        "elif (month,day)==(12,31):\n",
        "  print(\"Next Date is: 1/1\"+\"/\"+str(year+1))\n",
        "elif (month,day)==(4,30):\n",
        "  print(\"Next Date is: 1\"+\"/\"+str(month+1)+\"/\"+str(year))\n",
        "elif (month,day)==(6,30):\n",
        "  print(\"Next Date is: 1\"+\"/\"+str(month+1)+\"/\"+str(year))\n",
        "elif (month,day)==(9,30):\n",
        "  print(\"Next Date is: 1\"+\"/\"+str(month+1)+\"/\"+str(year))\n",
        "elif (month,day)==(11,30):\n",
        "  print(\"Next Date is: 1\"+\"/\"+str(month+1)+\"/\"+str(year))\n",
        "else:\n",
        "  print(\"Next Date is: \"+str(day+1)+\"/\"+str(month)+\"/\"+str(year))      \n"
      ],
      "metadata": {
        "id": "QzIgqiTLC26F",
        "outputId": "264657f1-8037-4718-bd3e-f60115f6c4b8",
        "colab": {
          "base_uri": "https://localhost:8080/"
        }
      },
      "execution_count": 2,
      "outputs": [
        {
          "output_type": "stream",
          "name": "stdout",
          "text": [
            "Month- 2\n",
            "Day- 28\n",
            "Year- 2020\n",
            "Next Date is: 29/2/2020\n"
          ]
        }
      ]
    },
    {
      "cell_type": "code",
      "source": [
        "a=int(input(\"Enter a: \"))\n",
        "b=int(input(\"Enter b: \"))\n",
        "c=int(input(\"Enter c: \"))\n",
        "list1=[a,b,c]\n",
        "print([(a,a*a),(b,b*b),(c,c*c)])"
      ],
      "metadata": {
        "id": "Y5-imEvkE6nC",
        "outputId": "5cc3be79-627c-4081-ac08-6b6aed88275c",
        "colab": {
          "base_uri": "https://localhost:8080/"
        }
      },
      "execution_count": 3,
      "outputs": [
        {
          "output_type": "stream",
          "name": "stdout",
          "text": [
            "Enter a: 3\n",
            "Enter b: 6\n",
            "Enter c: 9\n",
            "[(3, 9), (6, 36), (9, 81)]\n"
          ]
        }
      ]
    },
    {
      "cell_type": "code",
      "source": [
        "x=int(input(\"Enter your grade point: \"))\n",
        "if(x==4):\n",
        "  print(\"Your grade is 'D' and Poor Performance\")\n",
        "elif(x==5):\n",
        "  print(\"Your grade is 'C' and Below Average Performance\")\n",
        "elif(x==6):\n",
        "  print(\"Your grade is 'C+' and Average Performance\")  \n",
        "elif(x==7):\n",
        "  print(\"Your grade is 'B' and Good Performance\")\n",
        "elif(x==8):\n",
        "  print(\"Your grade is 'B+' and Very Good Performance\")\n",
        "elif(x==9):\n",
        "  print(\"Your grade is 'A' and Excellent Performance\")\n",
        "elif(x==10):\n",
        "  print(\"Your grade is 'A+' and Outstanding Performance\")\n",
        "else:\n",
        "  print(\"Error\")          \n"
      ],
      "metadata": {
        "id": "jn7ozr-NFS1O",
        "outputId": "b0957887-3b1e-448b-99d2-219fc6fba32b",
        "colab": {
          "base_uri": "https://localhost:8080/"
        }
      },
      "execution_count": 4,
      "outputs": [
        {
          "output_type": "stream",
          "name": "stdout",
          "text": [
            "Enter your grade point: 10\n",
            "Your grade is 'A+' and Outstanding Performance\n"
          ]
        }
      ]
    },
    {
      "cell_type": "code",
      "source": [
        "x=\"ABCDEFGHIJK\"\n",
        "a=x.replace(\"JK\",\"\")\n",
        "b=a.replace(\"HI\",\"\")\n",
        "c=b.replace(\"FG\",\"\")\n",
        "d=c.replace(\"DE\",\"\")\n",
        "e=d.replace(\"BC\",\"\")\n",
        "print(x)\n",
        "print(a)\n",
        "print(b)\n",
        "print(c)\n",
        "print(d)\n",
        "print(e)"
      ],
      "metadata": {
        "id": "5RUdJ-FQGbt0",
        "outputId": "82bbb9c2-591d-4aa7-fbd5-a390fddc3581",
        "colab": {
          "base_uri": "https://localhost:8080/"
        }
      },
      "execution_count": 5,
      "outputs": [
        {
          "output_type": "stream",
          "name": "stdout",
          "text": [
            "ABCDEFGHIJK\n",
            "ABCDEFGHI\n",
            "ABCDEFG\n",
            "ABCDE\n",
            "ABC\n",
            "A\n"
          ]
        }
      ]
    },
    {
      "cell_type": "code",
      "source": [
        "set1={1,2,3,4,5}\n",
        "set2={2,4,6,8}\n",
        "set3={1,5,9,13,17}\n",
        "#A.) Part\n",
        "x=set1-set2\n",
        "y=set2-set1\n",
        "newset=set.union(x,y)\n",
        "print(newset)"
      ],
      "metadata": {
        "id": "v5xY2K7FG9OF",
        "outputId": "37e66dc5-0f4a-444a-faa4-eb072dfde777",
        "colab": {
          "base_uri": "https://localhost:8080/"
        }
      },
      "execution_count": 6,
      "outputs": [
        {
          "output_type": "stream",
          "name": "stdout",
          "text": [
            "{1, 3, 5, 6, 8}\n"
          ]
        }
      ]
    },
    {
      "cell_type": "code",
      "source": [
        "set1={1,2,3,4,5}\n",
        "set2={2,4,6,8}\n",
        "set3={1,5,9,13,17}\n",
        "#B.) Part\n",
        "x=set1-set3\n",
        "y=set3-set1\n",
        "z=set.union(x,y)\n",
        "a=z-set2\n",
        "b=set2-z\n",
        "newset=set.union(a,b)\n",
        "print(newset)"
      ],
      "metadata": {
        "id": "OA-sL63KHcW8",
        "outputId": "ad10eb7d-aefe-4a3a-cbd9-3a63e648c210",
        "colab": {
          "base_uri": "https://localhost:8080/"
        }
      },
      "execution_count": 7,
      "outputs": [
        {
          "output_type": "stream",
          "name": "stdout",
          "text": [
            "{17, 3, 6, 8, 9, 13}\n"
          ]
        }
      ]
    },
    {
      "cell_type": "code",
      "source": [
        "set1={1,2,3,4,5}\n",
        "set2={2,4,6,8}\n",
        "set3={1,5,9,13,17}\n",
        "#C.) Part\n",
        "x=set1-set2\n",
        "y=set1-x\n",
        "z=set1-set3\n",
        "a=z-set3\n",
        "b=x-a\n",
        "newset=set.union(b,y)\n",
        "print(newset)"
      ],
      "metadata": {
        "id": "GkcHCDg5Hzj0",
        "outputId": "ccf7167b-a193-47ec-e1a3-a9cc06814e49",
        "colab": {
          "base_uri": "https://localhost:8080/"
        }
      },
      "execution_count": 8,
      "outputs": [
        {
          "output_type": "stream",
          "name": "stdout",
          "text": [
            "{1, 2, 4, 5}\n"
          ]
        }
      ]
    },
    {
      "cell_type": "code",
      "source": [
        "set1={1,2,3,4,5}\n",
        "set2={2,4,6,8}\n",
        "set3={1,5,9,13,17}\n",
        "#D.) Part\n",
        "x={1,2,3,4,5,6,7,8,9}\n",
        "newset=x-set1\n",
        "print(newset)"
      ],
      "metadata": {
        "id": "aLL3evGUINAk",
        "outputId": "3a9194ab-d2ee-431d-e52b-f31772a00fcd",
        "colab": {
          "base_uri": "https://localhost:8080/"
        }
      },
      "execution_count": 9,
      "outputs": [
        {
          "output_type": "stream",
          "name": "stdout",
          "text": [
            "{8, 9, 6, 7}\n"
          ]
        }
      ]
    },
    {
      "cell_type": "code",
      "source": [
        "set1={1,2,3,4,5}\n",
        "set2={2,4,6,8}\n",
        "set3={1,5,9,13,17}\n",
        "#E.) Part\n",
        "x=set.union(set1,set2,set3)\n",
        "y={1,2,3,4,5,6,7,8,9}\n",
        "newset=y-x\n",
        "print(newset)"
      ],
      "metadata": {
        "id": "-yy5wzZAIcnD",
        "outputId": "c262ad37-d3ad-4036-cabf-e96e56158809",
        "colab": {
          "base_uri": "https://localhost:8080/"
        }
      },
      "execution_count": 10,
      "outputs": [
        {
          "output_type": "stream",
          "name": "stdout",
          "text": [
            "{7}\n"
          ]
        }
      ]
    },
    {
      "cell_type": "code",
      "source": [
        "a=str(input(\"Enter Your Name: \"))\n",
        "b=int(input(\"Enter Your SID: \"))\n",
        "dict={a:b}\n",
        "print(dict)"
      ],
      "metadata": {
        "id": "M_KEB7PxIwXU",
        "outputId": "ae25a86e-4235-4f20-d45d-97cfb476badf",
        "colab": {
          "base_uri": "https://localhost:8080/"
        }
      },
      "execution_count": 11,
      "outputs": [
        {
          "output_type": "stream",
          "name": "stdout",
          "text": [
            "Enter Your Name: Kabir\n",
            "Enter Your SID: 21104092\n",
            "{'Kabir': 21104092}\n"
          ]
        }
      ]
    },
    {
      "cell_type": "code",
      "source": [
        "def fibonacci(n):\n",
        "  a=0\n",
        "  b=1\n",
        "  if(n==1):\n",
        "    print(a)\n",
        "  else:\n",
        "    print(a)\n",
        "    print(b)\n",
        "    for i in range(2,n):\n",
        "      c=a+b\n",
        "      a=b\n",
        "      b=c\n",
        "      print(c)\n",
        "\n",
        "fibonacci(12)        \n"
      ],
      "metadata": {
        "id": "_F0TuWs4I-2V",
        "outputId": "f162df2c-f0f1-4f99-fd1a-8d9577f0b358",
        "colab": {
          "base_uri": "https://localhost:8080/"
        }
      },
      "execution_count": 12,
      "outputs": [
        {
          "output_type": "stream",
          "name": "stdout",
          "text": [
            "0\n",
            "1\n",
            "1\n",
            "2\n",
            "3\n",
            "5\n",
            "8\n",
            "13\n",
            "21\n",
            "34\n",
            "55\n",
            "89\n"
          ]
        }
      ]
    }
  ],
  "metadata": {
    "colab": {
      "collapsed_sections": [],
      "name": "Welcome To Colaboratory",
      "toc_visible": true,
      "provenance": [],
      "include_colab_link": true
    },
    "kernelspec": {
      "display_name": "Python 3",
      "name": "python3"
    }
  },
  "nbformat": 4,
  "nbformat_minor": 0
}