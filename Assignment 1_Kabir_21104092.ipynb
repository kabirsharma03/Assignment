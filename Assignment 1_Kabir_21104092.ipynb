{
  "cells": [
    {
      "cell_type": "markdown",
      "metadata": {
        "id": "view-in-github",
        "colab_type": "text"
      },
      "source": [
        "<a href=\"https://colab.research.google.com/github/kabirsharma03/Assignment/blob/main/Assignment%201_Kabir_21104092.ipynb\" target=\"_parent\"><img src=\"https://colab.research.google.com/assets/colab-badge.svg\" alt=\"Open In Colab\"/></a>"
      ]
    },
    {
      "cell_type": "code",
      "source": [
        "a=int(input(\"Enter First Number: \"))\n",
        "b=int(input(\"Enter Second Number: \"))\n",
        "c=int(input(\"Enter Third Number: \"))\n",
        "d=a+b+c/3\n",
        "print(\"The average of (a,b,c) is \",d)\n"
      ],
      "metadata": {
        "id": "Ds0JDFcW9Omo",
        "outputId": "92e0307d-f529-41a4-e9db-e9f0ce593ade",
        "colab": {
          "base_uri": "https://localhost:8080/"
        }
      },
      "execution_count": 19,
      "outputs": [
        {
          "output_type": "stream",
          "name": "stdout",
          "text": [
            "Enter First Number: 5\n",
            "Enter Second Number: 6\n",
            "Enter Third Number: 7\n",
            "The average of (a,b,c) is  13.333333333333334\n"
          ]
        }
      ]
    },
    {
      "cell_type": "code",
      "source": [
        "n=int(input(\"Enter number of dependents: \"))\n",
        "gross_income=int(input(\"Enter Your Annual Income: \"))\n",
        "tax_rate=20  #IN percent\n",
        "\n",
        "standard_deduction=10000\n",
        "dependent_deduction=3000\n",
        "taxable_income=gross_income-standard_deduction-(dependent_deduction*n)\n",
        "Tax=taxable_income*tax_rate\n",
        "print(Tax)"
      ],
      "metadata": {
        "id": "IXuNoYk09vdN",
        "outputId": "09cebaa8-f3cb-4e9d-f0b5-f5b5e835bd0b",
        "colab": {
          "base_uri": "https://localhost:8080/"
        }
      },
      "execution_count": 20,
      "outputs": [
        {
          "output_type": "stream",
          "name": "stdout",
          "text": [
            "Enter number of dependents: 3\n",
            "Enter Your Annual Income: 1000000\n",
            "19620000\n"
          ]
        }
      ]
    },
    {
      "cell_type": "code",
      "source": [
        "a=input(\"Enter Your Name: \")\n",
        "b=int(input(\"Enter Your SID: \"))\n",
        "c=input(\"Enter Your Gender: \")\n",
        "d=input(\"Enter Course Name: \")\n",
        "e=float(input(\"Enter Your CGPA: \"))\n",
        "Students=[b,a,c,d,e]\n",
        "print(Students)"
      ],
      "metadata": {
        "id": "Rt7Kuz_9_QXx",
        "outputId": "80c6ccd8-cf9a-40ed-84d8-fe440a689ff3",
        "colab": {
          "base_uri": "https://localhost:8080/"
        }
      },
      "execution_count": 21,
      "outputs": [
        {
          "output_type": "stream",
          "name": "stdout",
          "text": [
            "Enter Your Name: Kabir\n",
            "Enter Your SID: 21104092\n",
            "Enter Your Gender: Male\n",
            "Enter Course Name: Electrical\n",
            "Enter Your CGPA: 9.9\n",
            "[21104092, 'Kabir', 'Male', 'Electrical', 9.9]\n"
          ]
        }
      ]
    },
    {
      "cell_type": "code",
      "source": [
        "a=int(input(\"Enter marks of Student 1- \"))\n",
        "b=int(input(\"Enter marks of Student 2- \"))\n",
        "c=int(input(\"Enter marks of Student 3- \"))\n",
        "d=int(input(\"Enter marks of Student 4- \"))\n",
        "e=int(input(\"Enter marks of Student 5- \"))\n",
        "list=[a,b,c,d,e]\n",
        "print(list)"
      ],
      "metadata": {
        "id": "RVZqccVD_Qhj",
        "outputId": "92e09741-6989-48c4-b640-85f0a800d875",
        "colab": {
          "base_uri": "https://localhost:8080/"
        }
      },
      "execution_count": 22,
      "outputs": [
        {
          "output_type": "stream",
          "name": "stdout",
          "text": [
            "Enter marks of Student 1- 52\n",
            "Enter marks of Student 2- 55\n",
            "Enter marks of Student 3- 57\n",
            "Enter marks of Student 4- 59\n",
            "Enter marks of Student 5- 60\n",
            "[52, 55, 57, 59, 60]\n"
          ]
        }
      ]
    },
    {
      "cell_type": "code",
      "source": [
        "color=['Red','Green','White','Black','Pink','Yellow']\n",
        "#a.) Part\n",
        "color.remove('Black')\n",
        "print(color)"
      ],
      "metadata": {
        "id": "tbKeA1S_ApMP",
        "outputId": "51578d3e-8c9b-4737-d36a-acf58eac7082",
        "colab": {
          "base_uri": "https://localhost:8080/"
        }
      },
      "execution_count": 26,
      "outputs": [
        {
          "output_type": "stream",
          "name": "stdout",
          "text": [
            "['Red', 'Green', 'White', 'Pink', 'Yellow']\n"
          ]
        }
      ]
    },
    {
      "cell_type": "code",
      "source": [
        "color=['Red','Green','White','Black','Pink','Yellow']\n",
        "#b.) Part\n",
        "color[3]='Purple'\n",
        "color.remove(\"Pink\")\n",
        "print(color)"
      ],
      "metadata": {
        "id": "QGIEpJLoBowC",
        "outputId": "4d0bb180-1b7b-4014-c8dd-1d078c4cc73d",
        "colab": {
          "base_uri": "https://localhost:8080/"
        }
      },
      "execution_count": 30,
      "outputs": [
        {
          "output_type": "stream",
          "name": "stdout",
          "text": [
            "['Red', 'Green', 'White', 'Purple', 'Yellow']\n"
          ]
        }
      ]
    }
  ],
  "metadata": {
    "colab": {
      "collapsed_sections": [],
      "name": "Welcome To Colaboratory",
      "toc_visible": true,
      "provenance": [],
      "include_colab_link": true
    },
    "kernelspec": {
      "display_name": "Python 3",
      "name": "python3"
    }
  },
  "nbformat": 4,
  "nbformat_minor": 0
}