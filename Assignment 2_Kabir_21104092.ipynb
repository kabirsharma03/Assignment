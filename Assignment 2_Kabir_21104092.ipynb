{
  "cells": [
    {
      "cell_type": "markdown",
      "metadata": {
        "id": "view-in-github",
        "colab_type": "text"
      },
      "source": [
        "<a href=\"https://colab.research.google.com/github/kabirsharma03/Assignment/blob/main/Assignment%202_Kabir_21104092.ipynb\" target=\"_parent\"><img src=\"https://colab.research.google.com/assets/colab-badge.svg\" alt=\"Open In Colab\"/></a>"
      ]
    },
    {
      "cell_type": "code",
      "source": [
        "a=\"Python is a case sensitive language\"\n",
        "print(len(a))\n",
        "def myfunction(n):\n",
        "  return n[::-1]\n",
        "  result=myfunction(a)\n",
        "  print(result)\n",
        "\n",
        "b=a[10:27]\n",
        "print(b)  \n",
        "x=a.replace(\"a case senisitive\",\"object oriented\")\n",
        "print(x)\n",
        "\n",
        "y=a.index(\"a\")\n",
        "print(y)\n",
        "\n",
        "z=a.replace(\" \",\"_\")\n",
        "print(z)\n"
      ],
      "metadata": {
        "id": "2NIOu9zPFhGz",
        "outputId": "0a10de71-e669-4d85-8321-7e66d3f1c8aa",
        "colab": {
          "base_uri": "https://localhost:8080/"
        }
      },
      "execution_count": 31,
      "outputs": [
        {
          "output_type": "stream",
          "name": "stdout",
          "text": [
            "35\n",
            "a case sensitive \n",
            "Python is a case sensitive language\n",
            "10\n",
            "Python_is_a_case_sensitive_language\n"
          ]
        }
      ]
    },
    {
      "cell_type": "code",
      "source": [
        "a=input(\"Enter Your Name: \")\n",
        "b=input(\"Enter Your Department: \")\n",
        "c=int(input(\"Enter Your SID: \"))\n",
        "d=float(input(\"Enter Your CGPA: \"))\n",
        "print(\"Hey\"+\", \"+str(a)+\" Here!\")\n",
        "print(\"My SID is \"+str(c))\n",
        "print(\"I am from \"+str(b)+\" department and my CGPA is \"+str(d))"
      ],
      "metadata": {
        "id": "lxld_cllGcd5",
        "outputId": "2c2b029d-d391-4c4b-8b3c-805ff028d6e9",
        "colab": {
          "base_uri": "https://localhost:8080/"
        }
      },
      "execution_count": 32,
      "outputs": [
        {
          "output_type": "stream",
          "name": "stdout",
          "text": [
            "Enter Your Name: Kabir\n",
            "Enter Your Department: Electrical\n",
            "Enter Your SID: 21104092\n",
            "Enter Your CGPA: 9.9\n",
            "Hey, Kabir Here!\n",
            "My SID is 21104092\n",
            "I am from Electrical department and my CGPA is 9.9\n"
          ]
        }
      ]
    },
    {
      "cell_type": "code",
      "source": [
        "a=56\n",
        "b=10\n",
        "print(a&b)\n",
        "print(a|b)\n",
        "print(a^b)\n",
        "c=a<<2\n",
        "d=b<<2\n",
        "print(c&d)\n",
        "e=a>>2\n",
        "f=b>>4\n",
        "print(e&f)\n"
      ],
      "metadata": {
        "id": "Z80NBBpUHOpm",
        "outputId": "23d64029-6497-444e-eac8-f9257d36dd94",
        "colab": {
          "base_uri": "https://localhost:8080/"
        }
      },
      "execution_count": 34,
      "outputs": [
        {
          "output_type": "stream",
          "name": "stdout",
          "text": [
            "8\n",
            "58\n",
            "50\n",
            "32\n",
            "0\n"
          ]
        }
      ]
    },
    {
      "cell_type": "code",
      "source": [
        "a=int(input(\"Enter No.1: \"))\n",
        "b=int(input(\"Enter No.2: \"))\n",
        "c=int(input(\"Enter No.3: \"))\n",
        "d=max((a,b,c))\n",
        "print(d)"
      ],
      "metadata": {
        "id": "KOurFDIuHXKq",
        "outputId": "19002a4f-907d-4501-e34b-37c1a0966424",
        "colab": {
          "base_uri": "https://localhost:8080/"
        }
      },
      "execution_count": 35,
      "outputs": [
        {
          "output_type": "stream",
          "name": "stdout",
          "text": [
            "Enter No.1: 52\n",
            "Enter No.2: 33\n",
            "Enter No.3: 3243\n",
            "3243\n"
          ]
        }
      ]
    },
    {
      "cell_type": "code",
      "source": [
        "a=input('Enter Any String: ')\n",
        "b=\"name\"\n",
        "if a.count(b)>0:\n",
        "  print(\"YES\")\n",
        "\n",
        "else:\n",
        "  print(\"NO\")\n"
      ],
      "metadata": {
        "id": "6XDYilOfIQow",
        "outputId": "beeeddf4-bd32-4475-8a44-d77254888a35",
        "colab": {
          "base_uri": "https://localhost:8080/"
        }
      },
      "execution_count": 36,
      "outputs": [
        {
          "output_type": "stream",
          "name": "stdout",
          "text": [
            "Enter Any String: My name is Kabir\n",
            "YES\n"
          ]
        }
      ]
    },
    {
      "cell_type": "code",
      "source": [
        "a=int(input(\"Enter length of shortest side: \"))\n",
        "b=int(input(\"Enter length of side 2: \"))\n",
        "c=int(input(\"Enter length of longer side: \"))\n",
        "if (a+b<c):\n",
        "  print(\"NO\")\n",
        "else:\n",
        "  print(\"YES\")  "
      ],
      "metadata": {
        "id": "2ci1UgtlInJb",
        "outputId": "df7cbf22-0f2c-448a-896b-feb10ead3931",
        "colab": {
          "base_uri": "https://localhost:8080/"
        }
      },
      "execution_count": 37,
      "outputs": [
        {
          "output_type": "stream",
          "name": "stdout",
          "text": [
            "Enter length of shortest side: 3\n",
            "Enter length of side 2: 4\n",
            "Enter length of longer side: 5\n",
            "YES\n"
          ]
        }
      ]
    }
  ],
  "metadata": {
    "colab": {
      "collapsed_sections": [],
      "name": "Welcome To Colaboratory",
      "toc_visible": true,
      "provenance": [],
      "include_colab_link": true
    },
    "kernelspec": {
      "display_name": "Python 3",
      "name": "python3"
    }
  },
  "nbformat": 4,
  "nbformat_minor": 0
}